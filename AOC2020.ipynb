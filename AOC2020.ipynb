{
 "cells": [
  {
   "cell_type": "markdown",
   "metadata": {},
   "source": [
    "https://adventofcode.com/2020"
   ]
  },
  {
   "cell_type": "code",
   "execution_count": 35,
   "metadata": {},
   "outputs": [],
   "source": [
    "import collections\n",
    "import functools\n",
    "import itertools\n",
    "import operator\n",
    "import re\n",
    "import math\n",
    "\n",
    "import pandas as pd\n",
    "import numpy as np"
   ]
  },
  {
   "cell_type": "code",
   "execution_count": 2,
   "metadata": {},
   "outputs": [
    {
     "name": "stdout",
     "output_type": "stream",
     "text": [
      "319 1701 542619\n"
     ]
    }
   ],
   "source": [
    "# 1\n",
    "with open('input1.txt', 'r') as f:\n",
    "    nums = [int(x) for x in f.readlines()]\n",
    "seen = set()\n",
    "for x in nums:\n",
    "    y = 2020-x\n",
    "    if y in seen:\n",
    "        print(x, y, x*y)\n",
    "    seen.add(x)"
   ]
  },
  {
   "cell_type": "code",
   "execution_count": 3,
   "metadata": {},
   "outputs": [
    {
     "name": "stdout",
     "output_type": "stream",
     "text": [
      "43 527 1450 32858450\n"
     ]
    }
   ],
   "source": [
    "seen = set()\n",
    "for i, x in enumerate(nums):\n",
    "    for y in nums[i+1:]:\n",
    "        z = 2020-x-y\n",
    "        if z in seen:\n",
    "            print(x, y, z, x*y*z)\n",
    "    seen.add(x)"
   ]
  },
  {
   "cell_type": "code",
   "execution_count": 4,
   "metadata": {},
   "outputs": [
    {
     "data": {
      "text/plain": [
       "524"
      ]
     },
     "execution_count": 4,
     "metadata": {},
     "output_type": "execute_result"
    }
   ],
   "source": [
    "# 2\n",
    "with open('input2.txt', 'r') as f:\n",
    "    inps = f.readlines()\n",
    "\n",
    "inp_regex = '^(\\d+)-(\\d+) ([a-z]): ([a-z]*)'\n",
    "result = 0\n",
    "for inp in inps:\n",
    "    mn, mx, char, pas = re.match(inp_regex, inp).groups()\n",
    "    mn, mx = int(mn), int(mx)\n",
    "    result += mn <= collections.Counter(pas)[char] <= mx\n",
    "result"
   ]
  },
  {
   "cell_type": "code",
   "execution_count": 5,
   "metadata": {},
   "outputs": [
    {
     "data": {
      "text/plain": [
       "485"
      ]
     },
     "execution_count": 5,
     "metadata": {},
     "output_type": "execute_result"
    }
   ],
   "source": [
    "result = 0\n",
    "for inp in inps:\n",
    "    i, j, char, pas = re.match(inp_regex, inp).groups()\n",
    "    i, j, N = int(i)-1, int(j)-1, len(pas)\n",
    "    result += (i < N and pas[i] == char) ^ (j < N and pas[j] == char)\n",
    "result"
   ]
  },
  {
   "cell_type": "code",
   "execution_count": 6,
   "metadata": {},
   "outputs": [
    {
     "data": {
      "text/plain": [
       "299"
      ]
     },
     "execution_count": 6,
     "metadata": {},
     "output_type": "execute_result"
    }
   ],
   "source": [
    "# 3\n",
    "with open('input3.txt', 'r') as f:\n",
    "    grid = [[1*(c=='#') for c in l] for l in f.read().splitlines()]\n",
    "N, M = len(grid), len(grid[0])\n",
    "result = sum(grid[i][(i*3) % M] for i in range(N))\n",
    "result"
   ]
  },
  {
   "cell_type": "code",
   "execution_count": 7,
   "metadata": {},
   "outputs": [
    {
     "data": {
      "text/plain": [
       "([67, 299, 67, 71, 38], 3621285278)"
      ]
     },
     "execution_count": 7,
     "metadata": {},
     "output_type": "execute_result"
    }
   ],
   "source": [
    "results = []\n",
    "for r, d in [(1,1),(3,1),(5,1),(7,1),(1,2)]:\n",
    "    results.append(sum(grid[i][(i*r//d) % M] for i in range(0,N,d)))\n",
    "results, functools.reduce(operator.mul, results)"
   ]
  },
  {
   "cell_type": "code",
   "execution_count": 8,
   "metadata": {},
   "outputs": [
    {
     "data": {
      "text/plain": [
       "254"
      ]
     },
     "execution_count": 8,
     "metadata": {},
     "output_type": "execute_result"
    }
   ],
   "source": [
    "# 4\n",
    "with open('input4.txt', 'r') as f:\n",
    "    passports = [p.replace('\\n', ' ').split() for p in \n",
    "              f.read().split('\\n\\n')]\n",
    "target_fields = {'byr', 'iyr', 'eyr', 'hgt',\n",
    "                 'hcl', 'ecl', 'pid'} #, 'cid'}\n",
    "result = 0\n",
    "for p in passports:\n",
    "    fields = dict(e.split(':') for e in p)\n",
    "    result += all(t in fields for t in target_fields)\n",
    "result"
   ]
  },
  {
   "cell_type": "code",
   "execution_count": 9,
   "metadata": {
    "scrolled": false
   },
   "outputs": [
    {
     "data": {
      "text/plain": [
       "184"
      ]
     },
     "execution_count": 9,
     "metadata": {},
     "output_type": "execute_result"
    }
   ],
   "source": [
    "def is_digit_in_incl_range(s, mn, mx):\n",
    "    try:\n",
    "        return mn <= int(s) <= mx\n",
    "    except:\n",
    "        return False\n",
    "    \n",
    "def is_valid_height(s):\n",
    "    if len(s) < 3:\n",
    "        return False\n",
    "    n, t = s[:-2], s[-2:]\n",
    "    if t == 'cm':\n",
    "        return is_digit_in_incl_range(n, 150, 193)\n",
    "    elif t == 'in':\n",
    "        return is_digit_in_incl_range(n, 59, 76)\n",
    "    return False\n",
    "\n",
    "eye_cols = ['amb', 'blu', 'brn', 'gry', 'grn', 'hzl', 'oth']\n",
    "\n",
    "result = 0\n",
    "for p in passports:\n",
    "    fields = dict(e.split(':') for e in p)\n",
    "    valid = all(t in fields for t in target_fields)\n",
    "    valid = valid and is_digit_in_incl_range(fields['byr'], 1920, 2002)\n",
    "    valid = valid and is_digit_in_incl_range(fields['iyr'], 2010, 2020)\n",
    "    valid = valid and is_digit_in_incl_range(fields['eyr'], 2020, 2030)\n",
    "    valid = valid and is_valid_height(fields['hgt'])\n",
    "    valid = valid and re.match('^#[0-9a-f]{6}$', fields['hcl']) is not None\n",
    "    valid = valid and fields['ecl'] in eye_cols\n",
    "    valid = valid and re.match('^[0-9]{9}$', fields['pid']) is not None\n",
    "    result += valid\n",
    "result"
   ]
  },
  {
   "cell_type": "code",
   "execution_count": 10,
   "metadata": {},
   "outputs": [
    {
     "data": {
      "text/plain": [
       "935"
      ]
     },
     "execution_count": 10,
     "metadata": {},
     "output_type": "execute_result"
    }
   ],
   "source": [
    "# 5\n",
    "with open('input5.txt', 'r') as f:\n",
    "    inp = f.read().splitlines()\n",
    "    \n",
    "binary = [''.join(['0','1'][c in 'BR'] for c in l) for l in inp]\n",
    "ids = [8*int(b[:-3], 2) + int(b[-3:], 2) for b in binary]\n",
    "max(ids)"
   ]
  },
  {
   "cell_type": "code",
   "execution_count": 11,
   "metadata": {},
   "outputs": [
    {
     "data": {
      "text/plain": [
       "743"
      ]
     },
     "execution_count": 11,
     "metadata": {},
     "output_type": "execute_result"
    }
   ],
   "source": [
    "ids = sorted(ids)\n",
    "miss = [i for i in range(len(ids)-1) if not ids[i]+1 == ids[i+1]][0]\n",
    "ids[miss]+1"
   ]
  },
  {
   "cell_type": "code",
   "execution_count": 12,
   "metadata": {},
   "outputs": [
    {
     "data": {
      "text/plain": [
       "6782"
      ]
     },
     "execution_count": 12,
     "metadata": {},
     "output_type": "execute_result"
    }
   ],
   "source": [
    "# 6\n",
    "with open('input6.txt', 'r') as f:\n",
    "    groups = [g.split('\\n') for g in f.read().split('\\n\\n')]\n",
    "    \n",
    "sum(len(set(''.join(g))) for g in groups)"
   ]
  },
  {
   "cell_type": "code",
   "execution_count": 13,
   "metadata": {},
   "outputs": [
    {
     "data": {
      "text/plain": [
       "3596"
      ]
     },
     "execution_count": 13,
     "metadata": {},
     "output_type": "execute_result"
    }
   ],
   "source": [
    "sum(len(g)==v for g in groups \n",
    "    for v in collections.Counter(''.join(g)).values())"
   ]
  },
  {
   "cell_type": "code",
   "execution_count": 14,
   "metadata": {},
   "outputs": [
    {
     "data": {
      "text/plain": [
       "{'wavy green': {'posh black': 1, 'faded green': 1, 'wavy red': 4},\n",
       " 'dotted chartreuse': {'light beige': 1},\n",
       " 'dark white': {'dotted white': 2},\n",
       " 'clear aqua': {'posh orange': 4, 'pale blue': 4},\n",
       " 'faded green': {'plaid orange': 2,\n",
       "  'drab green': 4,\n",
       "  'pale aqua': 4,\n",
       "  'drab coral': 4}}"
      ]
     },
     "execution_count": 14,
     "metadata": {},
     "output_type": "execute_result"
    }
   ],
   "source": [
    "# 7\n",
    "with open('input7.txt', 'r') as f:\n",
    "    raw_rules = f.read().splitlines()\n",
    "\n",
    "regex = '(\\d+) ([a-z\\s]+)$'\n",
    "def parse_rule(rule):\n",
    "    s = rule.split(' bag')\n",
    "    try:\n",
    "        r = dict(re.search(regex, r).groups()[::-1] for r in s[1:-1])\n",
    "        r = {k:int(v) for k,v in r.items()}\n",
    "    except Exception as e:\n",
    "        r = {}\n",
    "    return s[0], r\n",
    "rules = dict(parse_rule(r) for r in raw_rules)\n",
    "dict(list(rules.items())[:5])"
   ]
  },
  {
   "cell_type": "code",
   "execution_count": 15,
   "metadata": {},
   "outputs": [],
   "source": [
    "target = 'shiny gold'"
   ]
  },
  {
   "cell_type": "code",
   "execution_count": 16,
   "metadata": {},
   "outputs": [],
   "source": [
    "leads_to_target = set([target])\n",
    "not_to_target = set()"
   ]
  },
  {
   "cell_type": "code",
   "execution_count": 17,
   "metadata": {},
   "outputs": [],
   "source": [
    "def helper(typ):\n",
    "    # assumes no loops\n",
    "    if typ in leads_to_target:\n",
    "        return True\n",
    "    if typ in not_to_target:\n",
    "        return False\n",
    "    to_target = False\n",
    "    for styp in rules[typ].keys():\n",
    "        to_target |= helper(styp)\n",
    "    if to_target:\n",
    "        leads_to_target.add(typ)\n",
    "    else:\n",
    "        not_to_target.add(typ)\n",
    "    return to_target\n",
    "    \n",
    "for typ in rules:\n",
    "    helper(typ)"
   ]
  },
  {
   "cell_type": "code",
   "execution_count": 18,
   "metadata": {},
   "outputs": [
    {
     "data": {
      "text/plain": [
       "169"
      ]
     },
     "execution_count": 18,
     "metadata": {},
     "output_type": "execute_result"
    }
   ],
   "source": [
    "len(leads_to_target)-1"
   ]
  },
  {
   "cell_type": "code",
   "execution_count": 19,
   "metadata": {},
   "outputs": [],
   "source": [
    "def helper(typ):\n",
    "    # assumes no loops\n",
    "    return sum((1+helper(styp))*c for styp, c in rules[typ].items())"
   ]
  },
  {
   "cell_type": "code",
   "execution_count": 20,
   "metadata": {},
   "outputs": [
    {
     "data": {
      "text/plain": [
       "82372"
      ]
     },
     "execution_count": 20,
     "metadata": {},
     "output_type": "execute_result"
    }
   ],
   "source": [
    "helper(target)"
   ]
  },
  {
   "cell_type": "code",
   "execution_count": 21,
   "metadata": {},
   "outputs": [
    {
     "data": {
      "text/plain": [
       "(1487, True)"
      ]
     },
     "execution_count": 21,
     "metadata": {},
     "output_type": "execute_result"
    }
   ],
   "source": [
    "# 8\n",
    "with open('input8.txt', 'r') as f:\n",
    "    operations = [l.split() for l in f.read().splitlines()]\n",
    "\n",
    "def run_operations(operations):\n",
    "    seen = [False] * len(operations)\n",
    "    curr, acc = 0, 0\n",
    "    loopy = False\n",
    "    while curr < len(operations):\n",
    "        if seen[curr]:\n",
    "            loopy = True\n",
    "            break\n",
    "        seen[curr] = True\n",
    "        op, val = operations[curr]\n",
    "        val = int(val)\n",
    "        if op == 'acc':\n",
    "            acc += val\n",
    "            curr += 1\n",
    "        elif op == 'jmp':\n",
    "            curr += val\n",
    "        else:\n",
    "            curr += 1\n",
    "    return acc, loopy\n",
    "\n",
    "run_operations(operations)"
   ]
  },
  {
   "cell_type": "code",
   "execution_count": 22,
   "metadata": {},
   "outputs": [
    {
     "name": "stdout",
     "output_type": "stream",
     "text": [
      "469 1607\n"
     ]
    }
   ],
   "source": [
    "# I use brute force here\n",
    "# A non brute force solution is possible.\n",
    "# Firstly run backgrounds from the end to see which operations\n",
    "# will lead to the end. Then run forward and see which operation\n",
    "# can be changed to map to one of those operations that will lead\n",
    "# to the end.\n",
    "for i in range(len(operations)):\n",
    "    copy = operations.copy()\n",
    "    op, val = operations[i]\n",
    "    if op == 'acc':\n",
    "        continue\n",
    "    op = 'nop' if op == 'jmp' else 'jmp'\n",
    "    copy[i] = [op, val]\n",
    "    acc, loopy = run_operations(copy)\n",
    "    if not loopy:\n",
    "        print(i, acc)"
   ]
  },
  {
   "cell_type": "code",
   "execution_count": 23,
   "metadata": {},
   "outputs": [],
   "source": [
    "# 9\n",
    "with open('input9.txt', 'r') as f:\n",
    "    nums = [int(x) for x in f.readlines()]"
   ]
  },
  {
   "cell_type": "code",
   "execution_count": 24,
   "metadata": {},
   "outputs": [
    {
     "data": {
      "text/plain": [
       "552655238"
      ]
     },
     "execution_count": 24,
     "metadata": {},
     "output_type": "execute_result"
    }
   ],
   "source": [
    "seen = set(nums[:25])\n",
    "for n in nums[25:]:\n",
    "    valid = any(n-s in seen for s in seen if s!=n/2)\n",
    "    if valid:\n",
    "        seen.add(n)\n",
    "    else:\n",
    "        result = n\n",
    "        break\n",
    "result"
   ]
  },
  {
   "cell_type": "code",
   "execution_count": 25,
   "metadata": {},
   "outputs": [
    {
     "name": "stdout",
     "output_type": "stream",
     "text": [
      "[30484395, 26952678, 25903382, 26433970, 27327951, 29543326, 31321247, 30139557, 31044336, 32989305, 31818413, 34730529, 35979636, 41140695, 35790623, 36286332, 44768863]\n",
      "552655238 25903382 44768863\n",
      "[552655238]\n",
      "552655238 552655238 552655238\n"
     ]
    }
   ],
   "source": [
    "cumsum = list(itertools.accumulate(nums))\n",
    "for i in range(len(cumsum)):\n",
    "    for j in range(i+1, len(cumsum)):\n",
    "        if cumsum[j] - cumsum[i] == result:\n",
    "            rng = nums[i+1:j+1]\n",
    "            print(rng)\n",
    "            print(*(f(rng) for f in (sum, min, max)))\n",
    "            "
   ]
  },
  {
   "cell_type": "code",
   "execution_count": 26,
   "metadata": {},
   "outputs": [
    {
     "data": {
      "text/plain": [
       "70672245"
      ]
     },
     "execution_count": 26,
     "metadata": {},
     "output_type": "execute_result"
    }
   ],
   "source": [
    "25903382 + 44768863"
   ]
  },
  {
   "cell_type": "code",
   "execution_count": 27,
   "metadata": {},
   "outputs": [],
   "source": [
    "# 10\n",
    "with open('input10.txt', 'r') as f:\n",
    "    jolts = [int(x) for x in f.readlines()]"
   ]
  },
  {
   "cell_type": "code",
   "execution_count": 28,
   "metadata": {},
   "outputs": [
    {
     "data": {
      "text/plain": [
       "Counter({1: 70, 3: 35})"
      ]
     },
     "execution_count": 28,
     "metadata": {},
     "output_type": "execute_result"
    }
   ],
   "source": [
    "jolts = [0] + sorted(jolts) + [max(jolts)+3]\n",
    "diffs = [n-p for p,n in zip(jolts, jolts[1:])]\n",
    "collections.Counter(diffs)"
   ]
  },
  {
   "cell_type": "code",
   "execution_count": 29,
   "metadata": {},
   "outputs": [
    {
     "data": {
      "text/plain": [
       "2450"
      ]
     },
     "execution_count": 29,
     "metadata": {},
     "output_type": "execute_result"
    }
   ],
   "source": [
    "70*35"
   ]
  },
  {
   "cell_type": "code",
   "execution_count": 30,
   "metadata": {},
   "outputs": [],
   "source": [
    "dp = [0] * len(jolts)\n",
    "dp[0] = 1\n",
    "for i, jolt in enumerate(jolts[1:], 1):\n",
    "    num_pths = 0\n",
    "    for j in range(max(0, i-3),i):\n",
    "        if jolts[j] >= jolt - 3:\n",
    "            num_pths += dp[j]\n",
    "    dp[i] = num_pths"
   ]
  },
  {
   "cell_type": "code",
   "execution_count": 31,
   "metadata": {},
   "outputs": [
    {
     "data": {
      "text/plain": [
       "32396521357312"
      ]
     },
     "execution_count": 31,
     "metadata": {},
     "output_type": "execute_result"
    }
   ],
   "source": [
    "dp[-1]"
   ]
  },
  {
   "cell_type": "code",
   "execution_count": 32,
   "metadata": {},
   "outputs": [
    {
     "data": {
      "text/plain": [
       "array([[0, 0, 0, 0],\n",
       "       [0, 1, 1, 1],\n",
       "       [0, 1, 1, 1],\n",
       "       [0, 1, 1, 0]])"
      ]
     },
     "execution_count": 32,
     "metadata": {},
     "output_type": "execute_result"
    }
   ],
   "source": [
    "# 11\n",
    "# ENUM 0 -> floor, 1 -> empty, 2 -> occupied\n",
    "enum = {'.': 0, 'L': 1, '#': 2}\n",
    "renum = {v:k for k,v in enum.items()}\n",
    "with open('input11.txt', 'r') as f:\n",
    "    seats = np.array([[enum[c] for c in l] for l in f.read().splitlines()])\n",
    "    \n",
    "orig_seats = seats = np.pad(seats, (1, 1))\n",
    "seats[:4,:4]"
   ]
  },
  {
   "cell_type": "code",
   "execution_count": 33,
   "metadata": {},
   "outputs": [
    {
     "data": {
      "text/plain": [
       "2472"
      ]
     },
     "execution_count": 33,
     "metadata": {},
     "output_type": "execute_result"
    }
   ],
   "source": [
    "def evolve(seats):\n",
    "    occ = seats == 2\n",
    "    num_occ = np.sum([        \n",
    "        np.roll(occ, (i, j), (0, 1))\n",
    "        for i in [-1, 0, 1]\n",
    "        for j in [-1, 0, 1]\n",
    "    ], 0) - occ\n",
    "    evolved = seats.copy()\n",
    "    evolved[(seats == 1) & (num_occ == 0)] = 2\n",
    "    evolved[(seats == 2) & (num_occ >= 4)] = 1\n",
    "    return evolved\n",
    "\n",
    "done = False\n",
    "while not done:\n",
    "    evolved = evolve(seats)\n",
    "    if np.all(evolved == seats):\n",
    "        done = True\n",
    "    else:\n",
    "        seats = evolved\n",
    "np.sum(seats==2)"
   ]
  },
  {
   "cell_type": "code",
   "execution_count": 34,
   "metadata": {},
   "outputs": [
    {
     "data": {
      "text/plain": [
       "2197"
      ]
     },
     "execution_count": 34,
     "metadata": {},
     "output_type": "execute_result"
    }
   ],
   "source": [
    "# part 2 is a joy..., lets throw the beauty of numpy out the window\n",
    "# it seems like people attempting APL and J also cried at this point\n",
    "# a faster implementation would be possible with clever use of\n",
    "# itertools.accumulate translated to the numpy equivalent\n",
    "seats = orig_seats\n",
    "\n",
    "def evolve(seats):\n",
    "    occ = seats == 2\n",
    "    def calc(i, j):\n",
    "        return sum(\n",
    "            calcd(i, j, id, jd)\n",
    "            for id in [-1, 0, 1]\n",
    "            for jd in [-1, 0, 1]\n",
    "            if not (id==0 and jd==0)\n",
    "        )\n",
    "    def calcd(i, j, id, jd):\n",
    "        i, j = i+id, j+jd\n",
    "        while True:\n",
    "            if not (0 <= i < len(seats) and \\\n",
    "                    0 <= j < len(seats[i])):\n",
    "                # out of bounds\n",
    "                return 0\n",
    "            if seats[i][j] == 1:\n",
    "                # empty\n",
    "                return 0\n",
    "            if seats[i][j] == 2:\n",
    "                # occupied\n",
    "                return 1\n",
    "            i += id\n",
    "            j += jd           \n",
    "    num_occ = np.array([\n",
    "        [calc(i, j) for j in range(len(seats[i]))]\n",
    "        for i in range(len(seats))\n",
    "    ])\n",
    "    evolved = seats.copy()\n",
    "    evolved[(seats == 1) & (num_occ == 0)] = 2\n",
    "    evolved[(seats == 2) & (num_occ >= 5)] = 1\n",
    "    return evolved\n",
    "\n",
    "done = False\n",
    "while not done:\n",
    "    evolved = evolve(seats)\n",
    "    if np.all(evolved == seats):\n",
    "        done = True\n",
    "    else:\n",
    "        seats = evolved\n",
    "np.sum(seats==2)"
   ]
  },
  {
   "cell_type": "code",
   "execution_count": 35,
   "metadata": {},
   "outputs": [
    {
     "data": {
      "text/plain": [
       "(190, -567)"
      ]
     },
     "execution_count": 35,
     "metadata": {},
     "output_type": "execute_result"
    }
   ],
   "source": [
    "# 12\n",
    "next_l = dict(zip('NESW','WNES'))\n",
    "next_r = dict(zip('NESW','ESWN'))\n",
    "dirs = {'N': (-1,0), 'E': (0,1), 'S': (1,0), 'W': (0,-1)}\n",
    "\n",
    "with open('input12.txt', 'r') as f:\n",
    "    cmds = f.read().splitlines()\n",
    "    \n",
    "def add_tuples(x, y, scale=1):\n",
    "    return tuple(xv+yv*scale for xv, yv in zip(x, y))\n",
    "    \n",
    "d = 'E'\n",
    "loc = (0, 0)\n",
    "for cmd in cmds:\n",
    "    t, v = cmd[:1], int(cmd[1:])\n",
    "    if t in dirs:\n",
    "        loc = add_tuples(loc, dirs[t], v)\n",
    "    elif t == 'L':\n",
    "        for _ in range(v//90):\n",
    "            d = next_l[d]\n",
    "    elif t == 'R':\n",
    "        for _ in range(v//90):\n",
    "            d = next_r[d]\n",
    "    elif t == 'F':\n",
    "        loc = add_tuples(loc, dirs[d], v)\n",
    "    else:\n",
    "        raise ValueError(cmd)\n",
    "loc"
   ]
  },
  {
   "cell_type": "code",
   "execution_count": 36,
   "metadata": {},
   "outputs": [
    {
     "data": {
      "text/plain": [
       "757"
      ]
     },
     "execution_count": 36,
     "metadata": {},
     "output_type": "execute_result"
    }
   ],
   "source": [
    "sum(abs(x) for x in loc)"
   ]
  },
  {
   "cell_type": "code",
   "execution_count": 37,
   "metadata": {},
   "outputs": [
    {
     "data": {
      "text/plain": [
       "(45902, 5347)"
      ]
     },
     "execution_count": 37,
     "metadata": {},
     "output_type": "execute_result"
    }
   ],
   "source": [
    "loc = (0, 0)\n",
    "way = (-1, 10)\n",
    "\n",
    "for cmd in cmds:\n",
    "    t, v = cmd[:1], int(cmd[1:])\n",
    "    if t in dirs:\n",
    "        way = add_tuples(way, dirs[t], v)\n",
    "    elif t == 'L':\n",
    "        for _ in range(v//90):\n",
    "            way = (-way[1], way[0])\n",
    "    elif t == 'R':\n",
    "        for _ in range(v//90):\n",
    "            way = (way[1], -way[0])\n",
    "    elif t == 'F':\n",
    "        loc = add_tuples(loc, way, v)\n",
    "    else:\n",
    "        raise ValueError(cmd)\n",
    "loc"
   ]
  },
  {
   "cell_type": "code",
   "execution_count": 38,
   "metadata": {},
   "outputs": [
    {
     "data": {
      "text/plain": [
       "51249"
      ]
     },
     "execution_count": 38,
     "metadata": {},
     "output_type": "execute_result"
    }
   ],
   "source": [
    "sum(abs(x) for x in loc)"
   ]
  },
  {
   "cell_type": "code",
   "execution_count": 39,
   "metadata": {},
   "outputs": [
    {
     "data": {
      "text/plain": [
       "(1003240, [19, None, None, None, None], [19, 41, 37, 787, 13])"
      ]
     },
     "execution_count": 39,
     "metadata": {},
     "output_type": "execute_result"
    }
   ],
   "source": [
    "# 13\n",
    "with open('input13.txt', 'r') as f:\n",
    "    mn, ids = f.read().splitlines()\n",
    "mn = int(mn)\n",
    "ids = [None if x=='x' else int(x) for x in ids.split(',')]\n",
    "run_ids = list(filter(None, ids))\n",
    "mn, ids[:5], run_ids[:5]"
   ]
  },
  {
   "cell_type": "code",
   "execution_count": 40,
   "metadata": {},
   "outputs": [
    {
     "data": {
      "text/plain": [
       "[1003257,\n",
       " 1003270,\n",
       " 1003255,\n",
       " 1003425,\n",
       " 1003249,\n",
       " 1003260,\n",
       " 1003255,\n",
       " 1003247,\n",
       " 1003255]"
      ]
     },
     "execution_count": 40,
     "metadata": {},
     "output_type": "execute_result"
    }
   ],
   "source": [
    "next_bus = [math.ceil(mn/id)*id for id in run_ids]\n",
    "next_bus"
   ]
  },
  {
   "cell_type": "code",
   "execution_count": 41,
   "metadata": {},
   "outputs": [
    {
     "data": {
      "text/plain": [
       "3997"
      ]
     },
     "execution_count": 41,
     "metadata": {},
     "output_type": "execute_result"
    }
   ],
   "source": [
    "idx_min = min(range(len(next_bus)), key=lambda x: next_bus[x])\n",
    "(next_bus[idx_min]-mn) * run_ids[idx_min]"
   ]
  },
  {
   "cell_type": "code",
   "execution_count": 42,
   "metadata": {},
   "outputs": [
    {
     "data": {
      "text/plain": [
       "[19, 41, 37, 787, 13, 23, 29, 571, 17]"
      ]
     },
     "execution_count": 42,
     "metadata": {},
     "output_type": "execute_result"
    }
   ],
   "source": [
    "run_ids"
   ]
  },
  {
   "cell_type": "code",
   "execution_count": 43,
   "metadata": {},
   "outputs": [
    {
     "data": {
      "text/plain": [
       "[0, 9, 13, 19, 32, 42, 48, 50, 67]"
      ]
     },
     "execution_count": 43,
     "metadata": {},
     "output_type": "execute_result"
    }
   ],
   "source": [
    "offsets = [i for i,x in enumerate(ids) if x]\n",
    "offsets"
   ]
  },
  {
   "cell_type": "code",
   "execution_count": 44,
   "metadata": {},
   "outputs": [],
   "source": [
    "# find min y s.t.\n",
    "# y    % 19  == 0\n",
    "# y+9  % 41  == 0\n",
    "# y+13 % 37  == 0\n",
    "# y+19 % 787 == 0\n",
    "# etc.\n",
    "# y % 19  == 0        == 0\n",
    "# y % 41  == 41  - 9  == 32\n",
    "# y % 37  == 37  - 13 == 24\n",
    "# y % 787 == 787 - 19 == 768\n",
    "#\n",
    "# there exist integers a, b, c ...\n",
    "# 19a == 41b - 9 == 37c - 13 == 787d - 19 == 13e - 32\n",
    "#\n",
    "# without the offsets this would just be the lowest common multiple\n",
    "# all the bus ids are primes...\n",
    "# \n",
    "# y == 0 (mod 19)\n",
    "# y == 9 (mod 41)\n",
    "# y == 13 (mod 37)\n",
    "# etc.\n",
    "# use chinese remainder theorem..."
   ]
  },
  {
   "cell_type": "code",
   "execution_count": 45,
   "metadata": {},
   "outputs": [],
   "source": [
    "# copied from rosetta code\n",
    "\n",
    "def mul_inv(a, b):\n",
    "    b0 = b\n",
    "    x0, x1 = 0, 1\n",
    "    if b == 1: return 1\n",
    "    while a > 1:\n",
    "        q = a // b\n",
    "        a, b = b, a%b\n",
    "        x0, x1 = x1 - q * x0, x0\n",
    "    if x1 < 0: x1 += b0\n",
    "    return x1\n",
    "\n",
    "def chinese_remainder(n, a):\n",
    "    sm = 0\n",
    "    prod = functools.reduce(operator.mul, n)\n",
    "    for ni, ai in zip(n, a):\n",
    "        p = prod // ni\n",
    "        sm += ai * mul_inv(p, ni) * p\n",
    "    return sm % prod"
   ]
  },
  {
   "cell_type": "code",
   "execution_count": 46,
   "metadata": {},
   "outputs": [
    {
     "data": {
      "text/plain": [
       "500033211739354"
      ]
     },
     "execution_count": 46,
     "metadata": {},
     "output_type": "execute_result"
    }
   ],
   "source": [
    "cr = chinese_remainder(run_ids, [(r-o)%r for o,r in zip(offsets, run_ids)])\n",
    "cr"
   ]
  },
  {
   "cell_type": "code",
   "execution_count": 47,
   "metadata": {},
   "outputs": [
    {
     "data": {
      "text/plain": [
       "[0, 32, 24, 768, 7, 4, 10, 521, 1]"
      ]
     },
     "execution_count": 47,
     "metadata": {},
     "output_type": "execute_result"
    }
   ],
   "source": [
    "[cr % i for i in run_ids]"
   ]
  },
  {
   "cell_type": "code",
   "execution_count": 48,
   "metadata": {},
   "outputs": [
    {
     "data": {
      "text/plain": [
       "7477696999511"
      ]
     },
     "execution_count": 48,
     "metadata": {},
     "output_type": "execute_result"
    }
   ],
   "source": [
    "# 14\n",
    "with open('input14.txt', 'r') as f:\n",
    "    cmds = f.read().splitlines()\n",
    "\n",
    "class MaskedDict(dict):\n",
    "    \n",
    "    def __init__(self):\n",
    "        self.mask_0 = 0\n",
    "        self.mask_1 = 0\n",
    "        \n",
    "    def apply_mask(self, value):\n",
    "        value = value | self.mask_1  # set to 1 where mask 1\n",
    "        value = value & ~self.mask_0\n",
    "        return value\n",
    "    \n",
    "    def __setitem__(self, key, value):\n",
    "        value = self.apply_mask(value)\n",
    "        super().__setitem__(key, value)\n",
    "    \n",
    "mem = MaskedDict()\n",
    "for cmd in cmds:\n",
    "    if cmd[:4] == 'mask':\n",
    "        mask = cmd[7:]\n",
    "        mem.mask_0 = int(''.join('1' if m=='0' else '0' for m in mask), 2)\n",
    "        mem.mask_1 = int(''.join('1' if m=='1' else '0' for m in mask), 2)\n",
    "    else:\n",
    "        exec(cmd)\n",
    "\n",
    "sum(mem.values())"
   ]
  },
  {
   "cell_type": "code",
   "execution_count": 49,
   "metadata": {},
   "outputs": [
    {
     "data": {
      "text/plain": [
       "412"
      ]
     },
     "execution_count": 49,
     "metadata": {},
     "output_type": "execute_result"
    }
   ],
   "source": [
    "len(mem)"
   ]
  },
  {
   "cell_type": "code",
   "execution_count": 50,
   "metadata": {},
   "outputs": [
    {
     "data": {
      "text/plain": [
       "3687727854171"
      ]
     },
     "execution_count": 50,
     "metadata": {},
     "output_type": "execute_result"
    }
   ],
   "source": [
    "class MaskedKeyDict(dict):\n",
    "    \n",
    "    def __init__(self):\n",
    "        self.mask_1 = 0\n",
    "        self.locs_x = []\n",
    "        \n",
    "    def apply_mask(self, key):\n",
    "        key = key | self.mask_1  # set to 1 where mask 1\n",
    "        for n in range(len(self.locs_x)+1):\n",
    "            for locs in itertools.combinations(self.locs_x, n):\n",
    "                v = sum(1<<l for l in locs)\n",
    "                yield key ^ v\n",
    "        \n",
    "    def __setitem__(self, key, value):\n",
    "        for k in self.apply_mask(key):\n",
    "            super().__setitem__(k, value)\n",
    "    \n",
    "mem = MaskedKeyDict()\n",
    "for cmd in cmds:\n",
    "    if cmd[:4] == 'mask':\n",
    "        mask = cmd[7:]\n",
    "        mem.mask_1 = int(''.join('1' if m=='1' else '0' for m in mask), 2)\n",
    "        mem.locs_x = [len(mask)-i-1 for i, m in enumerate(mask) if m=='X']\n",
    "    else:\n",
    "        exec(cmd)\n",
    "\n",
    "sum(mem.values())"
   ]
  },
  {
   "cell_type": "code",
   "execution_count": 51,
   "metadata": {},
   "outputs": [
    {
     "data": {
      "text/plain": [
       "77059"
      ]
     },
     "execution_count": 51,
     "metadata": {},
     "output_type": "execute_result"
    }
   ],
   "source": [
    "len(mem)"
   ]
  },
  {
   "cell_type": "code",
   "execution_count": 76,
   "metadata": {},
   "outputs": [
    {
     "data": {
      "text/plain": [
       "(517, 1047739)"
      ]
     },
     "execution_count": 76,
     "metadata": {},
     "output_type": "execute_result"
    }
   ],
   "source": [
    "# 15\n",
    "nums = [5, 2, 8, 16, 18, 0, 1]\n",
    "last_idx = {n:i for i, n in enumerate(nums[:-1])}\n",
    "\n",
    "MILLION = 1000 * 1000\n",
    "\n",
    "for _ in range(30 * MILLION):\n",
    "    last = nums[-1]\n",
    "    idx = last_idx.get(last)\n",
    "    N = len(nums)\n",
    "    if idx is None:\n",
    "        new = 0\n",
    "    else:\n",
    "        new = N - 1 - idx\n",
    "    nums.append(new)\n",
    "    last_idx[last] = N - 1\n",
    "nums[2020-1], nums[30*MILLION-1]"
   ]
  },
  {
   "cell_type": "code",
   "execution_count": 5,
   "metadata": {},
   "outputs": [
    {
     "data": {
      "text/plain": [
       "3"
      ]
     },
     "execution_count": 5,
     "metadata": {},
     "output_type": "execute_result"
    }
   ],
   "source": [
    "# 16\n",
    "with open('input16.txt', 'r') as f:\n",
    "    data = f.read()\n",
    "sections = data.split('\\n\\n')\n"
   ]
  },
  {
   "cell_type": "code",
   "execution_count": 24,
   "metadata": {},
   "outputs": [
    {
     "data": {
      "text/plain": [
       "([28, 721], [735, 972])"
      ]
     },
     "execution_count": 24,
     "metadata": {},
     "output_type": "execute_result"
    }
   ],
   "source": [
    "rules = {}\n",
    "for l in sections[0].splitlines():\n",
    "    nm, rngs = l.split(':')\n",
    "    rng1, rng2 = rngs.split('or')\n",
    "    rng1 = [int(x) for x in rng1.split('-')]\n",
    "    rng2 = [int(x) for x in rng2.split('-')]\n",
    "    rules[nm] = (rng1, rng2)\n",
    "rules['zone']"
   ]
  },
  {
   "cell_type": "code",
   "execution_count": 12,
   "metadata": {},
   "outputs": [],
   "source": [
    "my_ticket = [int(x) for x in sections[1].splitlines()[1].split(',')]\n",
    "other_tickets = [[int(x) for x in l.split(',')] for l in sections[2].splitlines()[1:]]"
   ]
  },
  {
   "cell_type": "code",
   "execution_count": 23,
   "metadata": {},
   "outputs": [
    {
     "data": {
      "text/plain": [
       "29878"
      ]
     },
     "execution_count": 23,
     "metadata": {},
     "output_type": "execute_result"
    }
   ],
   "source": [
    "all_ranges = [r for rngs in rules.values() for r in rngs]\n",
    "sum([n for t in other_tickets for n in t if not any(r[0]<=n<=r[1] for r in all_ranges)])"
   ]
  },
  {
   "cell_type": "code",
   "execution_count": 27,
   "metadata": {},
   "outputs": [
    {
     "data": {
      "text/plain": [
       "(243, 190)"
      ]
     },
     "execution_count": 27,
     "metadata": {},
     "output_type": "execute_result"
    }
   ],
   "source": [
    "good_tickets = [t for t in other_tickets \n",
    "                if all(any(r[0]<=n<=r[1] for r in all_ranges) for n in t)]\n",
    "len(other_tickets), len(good_tickets)"
   ]
  },
  {
   "cell_type": "code",
   "execution_count": 48,
   "metadata": {},
   "outputs": [
    {
     "data": {
      "text/plain": [
       "11     1.0\n",
       "2      2.0\n",
       "18     3.0\n",
       "13     4.0\n",
       "7      5.0\n",
       "16     6.0\n",
       "19     7.0\n",
       "6      8.0\n",
       "10     9.0\n",
       "17    10.0\n",
       "0     11.0\n",
       "14    12.0\n",
       "5     13.0\n",
       "15    14.0\n",
       "8     15.0\n",
       "4     16.0\n",
       "3     17.0\n",
       "12    18.0\n",
       "9     19.0\n",
       "1     20.0\n",
       "dtype: float64"
      ]
     },
     "execution_count": 48,
     "metadata": {},
     "output_type": "execute_result"
    }
   ],
   "source": [
    "potential = {}\n",
    "for i, f in enumerate(zip(*good_tickets)):\n",
    "    potential[i] = {}\n",
    "    for nm, (rng1, rng2) in rules.items():\n",
    "        if all(rng1[0]<=n<=rng1[1] or rng2[0]<=n<=rng2[1] for n in f):\n",
    "            potential[i][nm] = 1\n",
    "potential = pd.DataFrame(potential)\n",
    "potential.sum().sort_values()"
   ]
  },
  {
   "cell_type": "code",
   "execution_count": 51,
   "metadata": {},
   "outputs": [
    {
     "data": {
      "text/html": [
       "<div>\n",
       "<style scoped>\n",
       "    .dataframe tbody tr th:only-of-type {\n",
       "        vertical-align: middle;\n",
       "    }\n",
       "\n",
       "    .dataframe tbody tr th {\n",
       "        vertical-align: top;\n",
       "    }\n",
       "\n",
       "    .dataframe thead th {\n",
       "        text-align: right;\n",
       "    }\n",
       "</style>\n",
       "<table border=\"1\" class=\"dataframe\">\n",
       "  <thead>\n",
       "    <tr style=\"text-align: right;\">\n",
       "      <th></th>\n",
       "      <th>11</th>\n",
       "      <th>2</th>\n",
       "      <th>18</th>\n",
       "      <th>13</th>\n",
       "      <th>7</th>\n",
       "      <th>16</th>\n",
       "      <th>19</th>\n",
       "      <th>6</th>\n",
       "      <th>10</th>\n",
       "      <th>17</th>\n",
       "      <th>0</th>\n",
       "      <th>14</th>\n",
       "      <th>5</th>\n",
       "      <th>15</th>\n",
       "      <th>8</th>\n",
       "      <th>4</th>\n",
       "      <th>3</th>\n",
       "      <th>12</th>\n",
       "      <th>9</th>\n",
       "      <th>1</th>\n",
       "    </tr>\n",
       "  </thead>\n",
       "  <tbody>\n",
       "    <tr>\n",
       "      <th>departure station</th>\n",
       "      <td>NaN</td>\n",
       "      <td>NaN</td>\n",
       "      <td>NaN</td>\n",
       "      <td>NaN</td>\n",
       "      <td>NaN</td>\n",
       "      <td>NaN</td>\n",
       "      <td>NaN</td>\n",
       "      <td>NaN</td>\n",
       "      <td>NaN</td>\n",
       "      <td>1.0</td>\n",
       "      <td>1.0</td>\n",
       "      <td>1.0</td>\n",
       "      <td>1.0</td>\n",
       "      <td>1.0</td>\n",
       "      <td>1.0</td>\n",
       "      <td>1.0</td>\n",
       "      <td>1.0</td>\n",
       "      <td>1.0</td>\n",
       "      <td>1.0</td>\n",
       "      <td>1</td>\n",
       "    </tr>\n",
       "    <tr>\n",
       "      <th>departure track</th>\n",
       "      <td>NaN</td>\n",
       "      <td>NaN</td>\n",
       "      <td>NaN</td>\n",
       "      <td>NaN</td>\n",
       "      <td>NaN</td>\n",
       "      <td>NaN</td>\n",
       "      <td>NaN</td>\n",
       "      <td>NaN</td>\n",
       "      <td>NaN</td>\n",
       "      <td>NaN</td>\n",
       "      <td>1.0</td>\n",
       "      <td>1.0</td>\n",
       "      <td>1.0</td>\n",
       "      <td>1.0</td>\n",
       "      <td>1.0</td>\n",
       "      <td>1.0</td>\n",
       "      <td>1.0</td>\n",
       "      <td>1.0</td>\n",
       "      <td>1.0</td>\n",
       "      <td>1</td>\n",
       "    </tr>\n",
       "    <tr>\n",
       "      <th>departure time</th>\n",
       "      <td>NaN</td>\n",
       "      <td>NaN</td>\n",
       "      <td>NaN</td>\n",
       "      <td>NaN</td>\n",
       "      <td>NaN</td>\n",
       "      <td>NaN</td>\n",
       "      <td>NaN</td>\n",
       "      <td>NaN</td>\n",
       "      <td>1.0</td>\n",
       "      <td>1.0</td>\n",
       "      <td>1.0</td>\n",
       "      <td>1.0</td>\n",
       "      <td>1.0</td>\n",
       "      <td>1.0</td>\n",
       "      <td>1.0</td>\n",
       "      <td>1.0</td>\n",
       "      <td>1.0</td>\n",
       "      <td>1.0</td>\n",
       "      <td>1.0</td>\n",
       "      <td>1</td>\n",
       "    </tr>\n",
       "    <tr>\n",
       "      <th>arrival location</th>\n",
       "      <td>NaN</td>\n",
       "      <td>NaN</td>\n",
       "      <td>NaN</td>\n",
       "      <td>NaN</td>\n",
       "      <td>NaN</td>\n",
       "      <td>1.0</td>\n",
       "      <td>1.0</td>\n",
       "      <td>1.0</td>\n",
       "      <td>1.0</td>\n",
       "      <td>1.0</td>\n",
       "      <td>1.0</td>\n",
       "      <td>1.0</td>\n",
       "      <td>1.0</td>\n",
       "      <td>1.0</td>\n",
       "      <td>1.0</td>\n",
       "      <td>1.0</td>\n",
       "      <td>1.0</td>\n",
       "      <td>1.0</td>\n",
       "      <td>1.0</td>\n",
       "      <td>1</td>\n",
       "    </tr>\n",
       "    <tr>\n",
       "      <th>arrival platform</th>\n",
       "      <td>NaN</td>\n",
       "      <td>1.0</td>\n",
       "      <td>1.0</td>\n",
       "      <td>1.0</td>\n",
       "      <td>1.0</td>\n",
       "      <td>1.0</td>\n",
       "      <td>1.0</td>\n",
       "      <td>1.0</td>\n",
       "      <td>1.0</td>\n",
       "      <td>1.0</td>\n",
       "      <td>1.0</td>\n",
       "      <td>1.0</td>\n",
       "      <td>1.0</td>\n",
       "      <td>1.0</td>\n",
       "      <td>1.0</td>\n",
       "      <td>1.0</td>\n",
       "      <td>1.0</td>\n",
       "      <td>1.0</td>\n",
       "      <td>1.0</td>\n",
       "      <td>1</td>\n",
       "    </tr>\n",
       "    <tr>\n",
       "      <th>arrival track</th>\n",
       "      <td>NaN</td>\n",
       "      <td>NaN</td>\n",
       "      <td>1.0</td>\n",
       "      <td>1.0</td>\n",
       "      <td>1.0</td>\n",
       "      <td>1.0</td>\n",
       "      <td>1.0</td>\n",
       "      <td>1.0</td>\n",
       "      <td>1.0</td>\n",
       "      <td>1.0</td>\n",
       "      <td>1.0</td>\n",
       "      <td>1.0</td>\n",
       "      <td>1.0</td>\n",
       "      <td>1.0</td>\n",
       "      <td>1.0</td>\n",
       "      <td>1.0</td>\n",
       "      <td>1.0</td>\n",
       "      <td>1.0</td>\n",
       "      <td>1.0</td>\n",
       "      <td>1</td>\n",
       "    </tr>\n",
       "    <tr>\n",
       "      <th>price</th>\n",
       "      <td>1.0</td>\n",
       "      <td>1.0</td>\n",
       "      <td>1.0</td>\n",
       "      <td>1.0</td>\n",
       "      <td>1.0</td>\n",
       "      <td>1.0</td>\n",
       "      <td>1.0</td>\n",
       "      <td>1.0</td>\n",
       "      <td>1.0</td>\n",
       "      <td>1.0</td>\n",
       "      <td>1.0</td>\n",
       "      <td>1.0</td>\n",
       "      <td>1.0</td>\n",
       "      <td>1.0</td>\n",
       "      <td>1.0</td>\n",
       "      <td>1.0</td>\n",
       "      <td>1.0</td>\n",
       "      <td>1.0</td>\n",
       "      <td>1.0</td>\n",
       "      <td>1</td>\n",
       "    </tr>\n",
       "    <tr>\n",
       "      <th>route</th>\n",
       "      <td>NaN</td>\n",
       "      <td>NaN</td>\n",
       "      <td>NaN</td>\n",
       "      <td>NaN</td>\n",
       "      <td>1.0</td>\n",
       "      <td>1.0</td>\n",
       "      <td>1.0</td>\n",
       "      <td>1.0</td>\n",
       "      <td>1.0</td>\n",
       "      <td>1.0</td>\n",
       "      <td>1.0</td>\n",
       "      <td>1.0</td>\n",
       "      <td>1.0</td>\n",
       "      <td>1.0</td>\n",
       "      <td>1.0</td>\n",
       "      <td>1.0</td>\n",
       "      <td>1.0</td>\n",
       "      <td>1.0</td>\n",
       "      <td>1.0</td>\n",
       "      <td>1</td>\n",
       "    </tr>\n",
       "    <tr>\n",
       "      <th>type</th>\n",
       "      <td>NaN</td>\n",
       "      <td>NaN</td>\n",
       "      <td>NaN</td>\n",
       "      <td>NaN</td>\n",
       "      <td>NaN</td>\n",
       "      <td>NaN</td>\n",
       "      <td>1.0</td>\n",
       "      <td>1.0</td>\n",
       "      <td>1.0</td>\n",
       "      <td>1.0</td>\n",
       "      <td>1.0</td>\n",
       "      <td>1.0</td>\n",
       "      <td>1.0</td>\n",
       "      <td>1.0</td>\n",
       "      <td>1.0</td>\n",
       "      <td>1.0</td>\n",
       "      <td>1.0</td>\n",
       "      <td>1.0</td>\n",
       "      <td>1.0</td>\n",
       "      <td>1</td>\n",
       "    </tr>\n",
       "    <tr>\n",
       "      <th>wagon</th>\n",
       "      <td>NaN</td>\n",
       "      <td>NaN</td>\n",
       "      <td>NaN</td>\n",
       "      <td>1.0</td>\n",
       "      <td>1.0</td>\n",
       "      <td>1.0</td>\n",
       "      <td>1.0</td>\n",
       "      <td>1.0</td>\n",
       "      <td>1.0</td>\n",
       "      <td>1.0</td>\n",
       "      <td>1.0</td>\n",
       "      <td>1.0</td>\n",
       "      <td>1.0</td>\n",
       "      <td>1.0</td>\n",
       "      <td>1.0</td>\n",
       "      <td>1.0</td>\n",
       "      <td>1.0</td>\n",
       "      <td>1.0</td>\n",
       "      <td>1.0</td>\n",
       "      <td>1</td>\n",
       "    </tr>\n",
       "    <tr>\n",
       "      <th>zone</th>\n",
       "      <td>NaN</td>\n",
       "      <td>NaN</td>\n",
       "      <td>NaN</td>\n",
       "      <td>NaN</td>\n",
       "      <td>NaN</td>\n",
       "      <td>NaN</td>\n",
       "      <td>NaN</td>\n",
       "      <td>1.0</td>\n",
       "      <td>1.0</td>\n",
       "      <td>1.0</td>\n",
       "      <td>1.0</td>\n",
       "      <td>1.0</td>\n",
       "      <td>1.0</td>\n",
       "      <td>1.0</td>\n",
       "      <td>1.0</td>\n",
       "      <td>1.0</td>\n",
       "      <td>1.0</td>\n",
       "      <td>1.0</td>\n",
       "      <td>1.0</td>\n",
       "      <td>1</td>\n",
       "    </tr>\n",
       "    <tr>\n",
       "      <th>departure location</th>\n",
       "      <td>NaN</td>\n",
       "      <td>NaN</td>\n",
       "      <td>NaN</td>\n",
       "      <td>NaN</td>\n",
       "      <td>NaN</td>\n",
       "      <td>NaN</td>\n",
       "      <td>NaN</td>\n",
       "      <td>NaN</td>\n",
       "      <td>NaN</td>\n",
       "      <td>NaN</td>\n",
       "      <td>NaN</td>\n",
       "      <td>NaN</td>\n",
       "      <td>NaN</td>\n",
       "      <td>1.0</td>\n",
       "      <td>1.0</td>\n",
       "      <td>1.0</td>\n",
       "      <td>1.0</td>\n",
       "      <td>1.0</td>\n",
       "      <td>1.0</td>\n",
       "      <td>1</td>\n",
       "    </tr>\n",
       "    <tr>\n",
       "      <th>departure platform</th>\n",
       "      <td>NaN</td>\n",
       "      <td>NaN</td>\n",
       "      <td>NaN</td>\n",
       "      <td>NaN</td>\n",
       "      <td>NaN</td>\n",
       "      <td>NaN</td>\n",
       "      <td>NaN</td>\n",
       "      <td>NaN</td>\n",
       "      <td>NaN</td>\n",
       "      <td>NaN</td>\n",
       "      <td>NaN</td>\n",
       "      <td>NaN</td>\n",
       "      <td>1.0</td>\n",
       "      <td>1.0</td>\n",
       "      <td>1.0</td>\n",
       "      <td>1.0</td>\n",
       "      <td>1.0</td>\n",
       "      <td>1.0</td>\n",
       "      <td>1.0</td>\n",
       "      <td>1</td>\n",
       "    </tr>\n",
       "    <tr>\n",
       "      <th>departure date</th>\n",
       "      <td>NaN</td>\n",
       "      <td>NaN</td>\n",
       "      <td>NaN</td>\n",
       "      <td>NaN</td>\n",
       "      <td>NaN</td>\n",
       "      <td>NaN</td>\n",
       "      <td>NaN</td>\n",
       "      <td>NaN</td>\n",
       "      <td>NaN</td>\n",
       "      <td>NaN</td>\n",
       "      <td>NaN</td>\n",
       "      <td>1.0</td>\n",
       "      <td>1.0</td>\n",
       "      <td>1.0</td>\n",
       "      <td>1.0</td>\n",
       "      <td>1.0</td>\n",
       "      <td>1.0</td>\n",
       "      <td>1.0</td>\n",
       "      <td>1.0</td>\n",
       "      <td>1</td>\n",
       "    </tr>\n",
       "    <tr>\n",
       "      <th>arrival station</th>\n",
       "      <td>NaN</td>\n",
       "      <td>NaN</td>\n",
       "      <td>NaN</td>\n",
       "      <td>NaN</td>\n",
       "      <td>NaN</td>\n",
       "      <td>NaN</td>\n",
       "      <td>NaN</td>\n",
       "      <td>NaN</td>\n",
       "      <td>NaN</td>\n",
       "      <td>NaN</td>\n",
       "      <td>NaN</td>\n",
       "      <td>NaN</td>\n",
       "      <td>NaN</td>\n",
       "      <td>NaN</td>\n",
       "      <td>NaN</td>\n",
       "      <td>NaN</td>\n",
       "      <td>NaN</td>\n",
       "      <td>NaN</td>\n",
       "      <td>1.0</td>\n",
       "      <td>1</td>\n",
       "    </tr>\n",
       "    <tr>\n",
       "      <th>class</th>\n",
       "      <td>NaN</td>\n",
       "      <td>NaN</td>\n",
       "      <td>NaN</td>\n",
       "      <td>NaN</td>\n",
       "      <td>NaN</td>\n",
       "      <td>NaN</td>\n",
       "      <td>NaN</td>\n",
       "      <td>NaN</td>\n",
       "      <td>NaN</td>\n",
       "      <td>NaN</td>\n",
       "      <td>NaN</td>\n",
       "      <td>NaN</td>\n",
       "      <td>NaN</td>\n",
       "      <td>NaN</td>\n",
       "      <td>1.0</td>\n",
       "      <td>1.0</td>\n",
       "      <td>1.0</td>\n",
       "      <td>1.0</td>\n",
       "      <td>1.0</td>\n",
       "      <td>1</td>\n",
       "    </tr>\n",
       "    <tr>\n",
       "      <th>duration</th>\n",
       "      <td>NaN</td>\n",
       "      <td>NaN</td>\n",
       "      <td>NaN</td>\n",
       "      <td>NaN</td>\n",
       "      <td>NaN</td>\n",
       "      <td>NaN</td>\n",
       "      <td>NaN</td>\n",
       "      <td>NaN</td>\n",
       "      <td>NaN</td>\n",
       "      <td>NaN</td>\n",
       "      <td>NaN</td>\n",
       "      <td>NaN</td>\n",
       "      <td>NaN</td>\n",
       "      <td>NaN</td>\n",
       "      <td>NaN</td>\n",
       "      <td>NaN</td>\n",
       "      <td>NaN</td>\n",
       "      <td>1.0</td>\n",
       "      <td>1.0</td>\n",
       "      <td>1</td>\n",
       "    </tr>\n",
       "    <tr>\n",
       "      <th>row</th>\n",
       "      <td>NaN</td>\n",
       "      <td>NaN</td>\n",
       "      <td>NaN</td>\n",
       "      <td>NaN</td>\n",
       "      <td>NaN</td>\n",
       "      <td>NaN</td>\n",
       "      <td>NaN</td>\n",
       "      <td>NaN</td>\n",
       "      <td>NaN</td>\n",
       "      <td>NaN</td>\n",
       "      <td>NaN</td>\n",
       "      <td>NaN</td>\n",
       "      <td>NaN</td>\n",
       "      <td>NaN</td>\n",
       "      <td>NaN</td>\n",
       "      <td>NaN</td>\n",
       "      <td>NaN</td>\n",
       "      <td>NaN</td>\n",
       "      <td>NaN</td>\n",
       "      <td>1</td>\n",
       "    </tr>\n",
       "    <tr>\n",
       "      <th>seat</th>\n",
       "      <td>NaN</td>\n",
       "      <td>NaN</td>\n",
       "      <td>NaN</td>\n",
       "      <td>NaN</td>\n",
       "      <td>NaN</td>\n",
       "      <td>NaN</td>\n",
       "      <td>NaN</td>\n",
       "      <td>NaN</td>\n",
       "      <td>NaN</td>\n",
       "      <td>NaN</td>\n",
       "      <td>NaN</td>\n",
       "      <td>NaN</td>\n",
       "      <td>NaN</td>\n",
       "      <td>NaN</td>\n",
       "      <td>NaN</td>\n",
       "      <td>1.0</td>\n",
       "      <td>1.0</td>\n",
       "      <td>1.0</td>\n",
       "      <td>1.0</td>\n",
       "      <td>1</td>\n",
       "    </tr>\n",
       "    <tr>\n",
       "      <th>train</th>\n",
       "      <td>NaN</td>\n",
       "      <td>NaN</td>\n",
       "      <td>NaN</td>\n",
       "      <td>NaN</td>\n",
       "      <td>NaN</td>\n",
       "      <td>NaN</td>\n",
       "      <td>NaN</td>\n",
       "      <td>NaN</td>\n",
       "      <td>NaN</td>\n",
       "      <td>NaN</td>\n",
       "      <td>NaN</td>\n",
       "      <td>NaN</td>\n",
       "      <td>NaN</td>\n",
       "      <td>NaN</td>\n",
       "      <td>NaN</td>\n",
       "      <td>NaN</td>\n",
       "      <td>1.0</td>\n",
       "      <td>1.0</td>\n",
       "      <td>1.0</td>\n",
       "      <td>1</td>\n",
       "    </tr>\n",
       "  </tbody>\n",
       "</table>\n",
       "</div>"
      ],
      "text/plain": [
       "                     11   2    18   13   7    16   19   6    10   17   0   \\\n",
       "departure station   NaN  NaN  NaN  NaN  NaN  NaN  NaN  NaN  NaN  1.0  1.0   \n",
       "departure track     NaN  NaN  NaN  NaN  NaN  NaN  NaN  NaN  NaN  NaN  1.0   \n",
       "departure time      NaN  NaN  NaN  NaN  NaN  NaN  NaN  NaN  1.0  1.0  1.0   \n",
       "arrival location    NaN  NaN  NaN  NaN  NaN  1.0  1.0  1.0  1.0  1.0  1.0   \n",
       "arrival platform    NaN  1.0  1.0  1.0  1.0  1.0  1.0  1.0  1.0  1.0  1.0   \n",
       "arrival track       NaN  NaN  1.0  1.0  1.0  1.0  1.0  1.0  1.0  1.0  1.0   \n",
       "price               1.0  1.0  1.0  1.0  1.0  1.0  1.0  1.0  1.0  1.0  1.0   \n",
       "route               NaN  NaN  NaN  NaN  1.0  1.0  1.0  1.0  1.0  1.0  1.0   \n",
       "type                NaN  NaN  NaN  NaN  NaN  NaN  1.0  1.0  1.0  1.0  1.0   \n",
       "wagon               NaN  NaN  NaN  1.0  1.0  1.0  1.0  1.0  1.0  1.0  1.0   \n",
       "zone                NaN  NaN  NaN  NaN  NaN  NaN  NaN  1.0  1.0  1.0  1.0   \n",
       "departure location  NaN  NaN  NaN  NaN  NaN  NaN  NaN  NaN  NaN  NaN  NaN   \n",
       "departure platform  NaN  NaN  NaN  NaN  NaN  NaN  NaN  NaN  NaN  NaN  NaN   \n",
       "departure date      NaN  NaN  NaN  NaN  NaN  NaN  NaN  NaN  NaN  NaN  NaN   \n",
       "arrival station     NaN  NaN  NaN  NaN  NaN  NaN  NaN  NaN  NaN  NaN  NaN   \n",
       "class               NaN  NaN  NaN  NaN  NaN  NaN  NaN  NaN  NaN  NaN  NaN   \n",
       "duration            NaN  NaN  NaN  NaN  NaN  NaN  NaN  NaN  NaN  NaN  NaN   \n",
       "row                 NaN  NaN  NaN  NaN  NaN  NaN  NaN  NaN  NaN  NaN  NaN   \n",
       "seat                NaN  NaN  NaN  NaN  NaN  NaN  NaN  NaN  NaN  NaN  NaN   \n",
       "train               NaN  NaN  NaN  NaN  NaN  NaN  NaN  NaN  NaN  NaN  NaN   \n",
       "\n",
       "                     14   5    15   8    4    3    12   9   1   \n",
       "departure station   1.0  1.0  1.0  1.0  1.0  1.0  1.0  1.0   1  \n",
       "departure track     1.0  1.0  1.0  1.0  1.0  1.0  1.0  1.0   1  \n",
       "departure time      1.0  1.0  1.0  1.0  1.0  1.0  1.0  1.0   1  \n",
       "arrival location    1.0  1.0  1.0  1.0  1.0  1.0  1.0  1.0   1  \n",
       "arrival platform    1.0  1.0  1.0  1.0  1.0  1.0  1.0  1.0   1  \n",
       "arrival track       1.0  1.0  1.0  1.0  1.0  1.0  1.0  1.0   1  \n",
       "price               1.0  1.0  1.0  1.0  1.0  1.0  1.0  1.0   1  \n",
       "route               1.0  1.0  1.0  1.0  1.0  1.0  1.0  1.0   1  \n",
       "type                1.0  1.0  1.0  1.0  1.0  1.0  1.0  1.0   1  \n",
       "wagon               1.0  1.0  1.0  1.0  1.0  1.0  1.0  1.0   1  \n",
       "zone                1.0  1.0  1.0  1.0  1.0  1.0  1.0  1.0   1  \n",
       "departure location  NaN  NaN  1.0  1.0  1.0  1.0  1.0  1.0   1  \n",
       "departure platform  NaN  1.0  1.0  1.0  1.0  1.0  1.0  1.0   1  \n",
       "departure date      1.0  1.0  1.0  1.0  1.0  1.0  1.0  1.0   1  \n",
       "arrival station     NaN  NaN  NaN  NaN  NaN  NaN  NaN  1.0   1  \n",
       "class               NaN  NaN  NaN  1.0  1.0  1.0  1.0  1.0   1  \n",
       "duration            NaN  NaN  NaN  NaN  NaN  NaN  1.0  1.0   1  \n",
       "row                 NaN  NaN  NaN  NaN  NaN  NaN  NaN  NaN   1  \n",
       "seat                NaN  NaN  NaN  NaN  1.0  1.0  1.0  1.0   1  \n",
       "train               NaN  NaN  NaN  NaN  NaN  1.0  1.0  1.0   1  "
      ]
     },
     "execution_count": 51,
     "metadata": {},
     "output_type": "execute_result"
    }
   ],
   "source": [
    "potential = potential[potential.sum().sort_values().index]\n",
    "potential"
   ]
  },
  {
   "cell_type": "code",
   "execution_count": 55,
   "metadata": {},
   "outputs": [
    {
     "data": {
      "text/plain": [
       "departure station   17    1.0\n",
       "departure track     0     1.0\n",
       "departure time      10    1.0\n",
       "arrival location    16    1.0\n",
       "arrival platform    2     1.0\n",
       "arrival track       18    1.0\n",
       "price               11    1.0\n",
       "route               7     1.0\n",
       "type                19    1.0\n",
       "wagon               13    1.0\n",
       "zone                6     1.0\n",
       "departure location  15    1.0\n",
       "departure platform  5     1.0\n",
       "departure date      14    1.0\n",
       "arrival station     9     1.0\n",
       "class               8     1.0\n",
       "duration            12    1.0\n",
       "row                 1     1.0\n",
       "seat                4     1.0\n",
       "train               3     1.0\n",
       "dtype: float64"
      ]
     },
     "execution_count": 55,
     "metadata": {},
     "output_type": "execute_result"
    }
   ],
   "source": [
    "potential.subtract(potential.T.shift().T, fill_value=0).replace(0, np.nan).stack().dropna()"
   ]
  },
  {
   "cell_type": "code",
   "execution_count": null,
   "metadata": {},
   "outputs": [],
   "source": [
    "my_ticket[0] * my_ticket[17] * my_ticket[10] * my_ticket[15] * my_ticket[5]  "
   ]
  }
 ],
 "metadata": {
  "kernelspec": {
   "display_name": "Python 3",
   "language": "python",
   "name": "python3"
  },
  "language_info": {
   "codemirror_mode": {
    "name": "ipython",
    "version": 3
   },
   "file_extension": ".py",
   "mimetype": "text/x-python",
   "name": "python",
   "nbconvert_exporter": "python",
   "pygments_lexer": "ipython3",
   "version": "3.7.9"
  },
  "toc": {
   "base_numbering": 1,
   "nav_menu": {},
   "number_sections": true,
   "sideBar": true,
   "skip_h1_title": false,
   "title_cell": "Table of Contents",
   "title_sidebar": "Contents",
   "toc_cell": false,
   "toc_position": {},
   "toc_section_display": true,
   "toc_window_display": false
  }
 },
 "nbformat": 4,
 "nbformat_minor": 4
}
