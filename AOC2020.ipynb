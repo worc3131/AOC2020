{
 "cells": [
  {
   "cell_type": "code",
   "execution_count": 75,
   "metadata": {},
   "outputs": [],
   "source": [
    "import collections\n",
    "import functools\n",
    "import itertools\n",
    "import operator\n",
    "import re\n",
    "\n",
    "import pandas as pd\n",
    "import numpy as np"
   ]
  },
  {
   "cell_type": "code",
   "execution_count": 17,
   "metadata": {},
   "outputs": [
    {
     "name": "stdout",
     "output_type": "stream",
     "text": [
      "319 1701 542619\n"
     ]
    }
   ],
   "source": [
    "# 1\n",
    "with open('input1.txt', 'r') as f:\n",
    "    nums = [int(x) for x in f.readlines()]\n",
    "seen = set()\n",
    "for x in nums:\n",
    "    y = 2020-x\n",
    "    if y in seen:\n",
    "        print(x, y, x*y)\n",
    "    seen.add(x)"
   ]
  },
  {
   "cell_type": "code",
   "execution_count": 18,
   "metadata": {},
   "outputs": [
    {
     "name": "stdout",
     "output_type": "stream",
     "text": [
      "43 527 1450 32858450\n"
     ]
    }
   ],
   "source": [
    "seen = set()\n",
    "for i, x in enumerate(nums):\n",
    "    for y in nums[i+1:]:\n",
    "        z = 2020-x-y\n",
    "        if z in seen:\n",
    "            print(x, y, z, x*y*z)\n",
    "    seen.add(x)"
   ]
  },
  {
   "cell_type": "code",
   "execution_count": 48,
   "metadata": {},
   "outputs": [
    {
     "data": {
      "text/plain": [
       "524"
      ]
     },
     "execution_count": 48,
     "metadata": {},
     "output_type": "execute_result"
    }
   ],
   "source": [
    "# 2\n",
    "with open('input2.txt', 'r') as f:\n",
    "    inps = f.readlines()\n",
    "\n",
    "inp_regex = '^(\\d+)-(\\d+) ([a-z]): ([a-z]*)'\n",
    "result = 0\n",
    "for inp in inps:\n",
    "    mn, mx, char, pas = re.match(inp_regex, inp).groups()\n",
    "    mn, mx = int(mn), int(mx)\n",
    "    result += mn <= collections.Counter(pas)[char] <= mx\n",
    "result"
   ]
  },
  {
   "cell_type": "code",
   "execution_count": 51,
   "metadata": {},
   "outputs": [
    {
     "data": {
      "text/plain": [
       "485"
      ]
     },
     "execution_count": 51,
     "metadata": {},
     "output_type": "execute_result"
    }
   ],
   "source": [
    "result = 0\n",
    "for inp in inps:\n",
    "    i, j, char, pas = re.match(inp_regex, inp).groups()\n",
    "    i, j, N = int(i)-1, int(j)-1, len(pas)\n",
    "    result += (i < N and pas[i] == char) ^ (j < N and pas[j] == char)\n",
    "result"
   ]
  },
  {
   "cell_type": "code",
   "execution_count": 68,
   "metadata": {},
   "outputs": [
    {
     "data": {
      "text/plain": [
       "299"
      ]
     },
     "execution_count": 68,
     "metadata": {},
     "output_type": "execute_result"
    }
   ],
   "source": [
    "# 3\n",
    "with open('input3.txt', 'r') as f:\n",
    "    grid = [[1*(c=='#') for c in l] for l in f.read().splitlines()]\n",
    "N, M = len(grid), len(grid[0])\n",
    "result = sum(grid[i][(i*3) % M] for i in range(N))\n",
    "result"
   ]
  },
  {
   "cell_type": "code",
   "execution_count": 83,
   "metadata": {},
   "outputs": [
    {
     "data": {
      "text/plain": [
       "([67, 299, 67, 71, 38], 3621285278)"
      ]
     },
     "execution_count": 83,
     "metadata": {},
     "output_type": "execute_result"
    }
   ],
   "source": [
    "results = []\n",
    "for r, d in [(1,1),(3,1),(5,1),(7,1),(1,2)]:\n",
    "    results.append(sum(grid[i][(i*r//d) % M] for i in range(0,N,d)))\n",
    "results, functools.reduce(operator.mul, results)"
   ]
  },
  {
   "cell_type": "code",
   "execution_count": 97,
   "metadata": {},
   "outputs": [
    {
     "data": {
      "text/plain": [
       "254"
      ]
     },
     "execution_count": 97,
     "metadata": {},
     "output_type": "execute_result"
    }
   ],
   "source": [
    "# 4\n",
    "with open('input4.txt', 'r') as f:\n",
    "    passports = [p.replace('\\n', ' ').split() for p in \n",
    "              f.read().split('\\n\\n')]\n",
    "target_fields = {'byr', 'iyr', 'eyr', 'hgt',\n",
    "                 'hcl', 'ecl', 'pid'} #, 'cid'}\n",
    "result = 0\n",
    "for p in passports:\n",
    "    fields = dict(e.split(':') for e in p)\n",
    "    result += all(t in fields for t in target_fields)\n",
    "result"
   ]
  },
  {
   "cell_type": "code",
   "execution_count": 112,
   "metadata": {
    "scrolled": false
   },
   "outputs": [
    {
     "data": {
      "text/plain": [
       "184"
      ]
     },
     "execution_count": 112,
     "metadata": {},
     "output_type": "execute_result"
    }
   ],
   "source": [
    "def is_digit_in_incl_range(s, mn, mx):\n",
    "    try:\n",
    "        return mn <= int(s) <= mx\n",
    "    except:\n",
    "        return False\n",
    "    \n",
    "def is_valid_height(s):\n",
    "    if len(s) < 3:\n",
    "        return False\n",
    "    n, t = s[:-2], s[-2:]\n",
    "    if t == 'cm':\n",
    "        return is_digit_in_incl_range(n, 150, 193)\n",
    "    elif t == 'in':\n",
    "        return is_digit_in_incl_range(n, 59, 76)\n",
    "    return False\n",
    "\n",
    "eye_cols = ['amb', 'blu', 'brn', 'gry', 'grn', 'hzl', 'oth']\n",
    "\n",
    "result = 0\n",
    "for p in passports:\n",
    "    fields = dict(e.split(':') for e in p)\n",
    "    valid = all(t in fields for t in target_fields)\n",
    "    valid = valid and is_digit_in_incl_range(fields['byr'], 1920, 2002)\n",
    "    valid = valid and is_digit_in_incl_range(fields['iyr'], 2010, 2020)\n",
    "    valid = valid and is_digit_in_incl_range(fields['eyr'], 2020, 2030)\n",
    "    valid = valid and is_valid_height(fields['hgt'])\n",
    "    valid = valid and re.match('^#[0-9a-f]{6}$', fields['hcl']) is not None\n",
    "    valid = valid and fields['ecl'] in eye_cols\n",
    "    valid = valid and re.match('^[0-9]{9}$', fields['pid']) is not None\n",
    "    result += valid\n",
    "result"
   ]
  },
  {
   "cell_type": "code",
   "execution_count": 135,
   "metadata": {},
   "outputs": [
    {
     "data": {
      "text/plain": [
       "935"
      ]
     },
     "execution_count": 135,
     "metadata": {},
     "output_type": "execute_result"
    }
   ],
   "source": [
    "# 5\n",
    "with open('input5.txt', 'r') as f:\n",
    "    inp = f.read().splitlines()\n",
    "    \n",
    "binary = [''.join(['0','1'][c in 'BR'] for c in l) for l in inp]\n",
    "ids = [8*int(b[:-3], 2) + int(b[-3:], 2) for b in binary]\n",
    "max(ids)"
   ]
  },
  {
   "cell_type": "code",
   "execution_count": 146,
   "metadata": {},
   "outputs": [
    {
     "data": {
      "text/plain": [
       "743"
      ]
     },
     "execution_count": 146,
     "metadata": {},
     "output_type": "execute_result"
    }
   ],
   "source": [
    "ids = sorted(ids)\n",
    "miss = [i for i in range(len(ids)-1) if not ids[i]+1 == ids[i+1]][0]\n",
    "ids[miss]+1"
   ]
  },
  {
   "cell_type": "code",
   "execution_count": 150,
   "metadata": {},
   "outputs": [
    {
     "data": {
      "text/plain": [
       "6782"
      ]
     },
     "execution_count": 150,
     "metadata": {},
     "output_type": "execute_result"
    }
   ],
   "source": [
    "# 6\n",
    "with open('input6.txt', 'r') as f:\n",
    "    groups = [g.split('\\n') for g in f.read().split('\\n\\n')]\n",
    "    \n",
    "sum(len(set(''.join(g))) for g in groups)"
   ]
  },
  {
   "cell_type": "code",
   "execution_count": 151,
   "metadata": {},
   "outputs": [
    {
     "data": {
      "text/plain": [
       "3596"
      ]
     },
     "execution_count": 151,
     "metadata": {},
     "output_type": "execute_result"
    }
   ],
   "source": [
    "sum(len(g)==v for g in groups \n",
    "    for v in collections.Counter(''.join(g)).values())"
   ]
  }
 ],
 "metadata": {
  "kernelspec": {
   "display_name": "Python 3",
   "language": "python",
   "name": "python3"
  },
  "language_info": {
   "codemirror_mode": {
    "name": "ipython",
    "version": 3
   },
   "file_extension": ".py",
   "mimetype": "text/x-python",
   "name": "python",
   "nbconvert_exporter": "python",
   "pygments_lexer": "ipython3",
   "version": "3.7.9"
  },
  "toc": {
   "base_numbering": 1,
   "nav_menu": {},
   "number_sections": true,
   "sideBar": true,
   "skip_h1_title": false,
   "title_cell": "Table of Contents",
   "title_sidebar": "Contents",
   "toc_cell": false,
   "toc_position": {},
   "toc_section_display": true,
   "toc_window_display": false
  }
 },
 "nbformat": 4,
 "nbformat_minor": 4
}
