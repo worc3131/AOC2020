{
 "cells": [
  {
   "cell_type": "markdown",
   "metadata": {},
   "source": [
    "https://adventofcode.com/2020"
   ]
  },
  {
   "cell_type": "code",
   "execution_count": 1,
   "metadata": {},
   "outputs": [],
   "source": [
    "import collections\n",
    "import functools\n",
    "import itertools\n",
    "import operator\n",
    "import re\n",
    "\n",
    "import pandas as pd\n",
    "import numpy as np"
   ]
  },
  {
   "cell_type": "code",
   "execution_count": 2,
   "metadata": {},
   "outputs": [
    {
     "name": "stdout",
     "output_type": "stream",
     "text": [
      "319 1701 542619\n"
     ]
    }
   ],
   "source": [
    "# 1\n",
    "with open('input1.txt', 'r') as f:\n",
    "    nums = [int(x) for x in f.readlines()]\n",
    "seen = set()\n",
    "for x in nums:\n",
    "    y = 2020-x\n",
    "    if y in seen:\n",
    "        print(x, y, x*y)\n",
    "    seen.add(x)"
   ]
  },
  {
   "cell_type": "code",
   "execution_count": 3,
   "metadata": {},
   "outputs": [
    {
     "name": "stdout",
     "output_type": "stream",
     "text": [
      "43 527 1450 32858450\n"
     ]
    }
   ],
   "source": [
    "seen = set()\n",
    "for i, x in enumerate(nums):\n",
    "    for y in nums[i+1:]:\n",
    "        z = 2020-x-y\n",
    "        if z in seen:\n",
    "            print(x, y, z, x*y*z)\n",
    "    seen.add(x)"
   ]
  },
  {
   "cell_type": "code",
   "execution_count": 4,
   "metadata": {},
   "outputs": [
    {
     "data": {
      "text/plain": [
       "524"
      ]
     },
     "execution_count": 4,
     "metadata": {},
     "output_type": "execute_result"
    }
   ],
   "source": [
    "# 2\n",
    "with open('input2.txt', 'r') as f:\n",
    "    inps = f.readlines()\n",
    "\n",
    "inp_regex = '^(\\d+)-(\\d+) ([a-z]): ([a-z]*)'\n",
    "result = 0\n",
    "for inp in inps:\n",
    "    mn, mx, char, pas = re.match(inp_regex, inp).groups()\n",
    "    mn, mx = int(mn), int(mx)\n",
    "    result += mn <= collections.Counter(pas)[char] <= mx\n",
    "result"
   ]
  },
  {
   "cell_type": "code",
   "execution_count": 5,
   "metadata": {},
   "outputs": [
    {
     "data": {
      "text/plain": [
       "485"
      ]
     },
     "execution_count": 5,
     "metadata": {},
     "output_type": "execute_result"
    }
   ],
   "source": [
    "result = 0\n",
    "for inp in inps:\n",
    "    i, j, char, pas = re.match(inp_regex, inp).groups()\n",
    "    i, j, N = int(i)-1, int(j)-1, len(pas)\n",
    "    result += (i < N and pas[i] == char) ^ (j < N and pas[j] == char)\n",
    "result"
   ]
  },
  {
   "cell_type": "code",
   "execution_count": 6,
   "metadata": {},
   "outputs": [
    {
     "data": {
      "text/plain": [
       "299"
      ]
     },
     "execution_count": 6,
     "metadata": {},
     "output_type": "execute_result"
    }
   ],
   "source": [
    "# 3\n",
    "with open('input3.txt', 'r') as f:\n",
    "    grid = [[1*(c=='#') for c in l] for l in f.read().splitlines()]\n",
    "N, M = len(grid), len(grid[0])\n",
    "result = sum(grid[i][(i*3) % M] for i in range(N))\n",
    "result"
   ]
  },
  {
   "cell_type": "code",
   "execution_count": 7,
   "metadata": {},
   "outputs": [
    {
     "data": {
      "text/plain": [
       "([67, 299, 67, 71, 38], 3621285278)"
      ]
     },
     "execution_count": 7,
     "metadata": {},
     "output_type": "execute_result"
    }
   ],
   "source": [
    "results = []\n",
    "for r, d in [(1,1),(3,1),(5,1),(7,1),(1,2)]:\n",
    "    results.append(sum(grid[i][(i*r//d) % M] for i in range(0,N,d)))\n",
    "results, functools.reduce(operator.mul, results)"
   ]
  },
  {
   "cell_type": "code",
   "execution_count": 8,
   "metadata": {},
   "outputs": [
    {
     "data": {
      "text/plain": [
       "254"
      ]
     },
     "execution_count": 8,
     "metadata": {},
     "output_type": "execute_result"
    }
   ],
   "source": [
    "# 4\n",
    "with open('input4.txt', 'r') as f:\n",
    "    passports = [p.replace('\\n', ' ').split() for p in \n",
    "              f.read().split('\\n\\n')]\n",
    "target_fields = {'byr', 'iyr', 'eyr', 'hgt',\n",
    "                 'hcl', 'ecl', 'pid'} #, 'cid'}\n",
    "result = 0\n",
    "for p in passports:\n",
    "    fields = dict(e.split(':') for e in p)\n",
    "    result += all(t in fields for t in target_fields)\n",
    "result"
   ]
  },
  {
   "cell_type": "code",
   "execution_count": 9,
   "metadata": {
    "scrolled": false
   },
   "outputs": [
    {
     "data": {
      "text/plain": [
       "184"
      ]
     },
     "execution_count": 9,
     "metadata": {},
     "output_type": "execute_result"
    }
   ],
   "source": [
    "def is_digit_in_incl_range(s, mn, mx):\n",
    "    try:\n",
    "        return mn <= int(s) <= mx\n",
    "    except:\n",
    "        return False\n",
    "    \n",
    "def is_valid_height(s):\n",
    "    if len(s) < 3:\n",
    "        return False\n",
    "    n, t = s[:-2], s[-2:]\n",
    "    if t == 'cm':\n",
    "        return is_digit_in_incl_range(n, 150, 193)\n",
    "    elif t == 'in':\n",
    "        return is_digit_in_incl_range(n, 59, 76)\n",
    "    return False\n",
    "\n",
    "eye_cols = ['amb', 'blu', 'brn', 'gry', 'grn', 'hzl', 'oth']\n",
    "\n",
    "result = 0\n",
    "for p in passports:\n",
    "    fields = dict(e.split(':') for e in p)\n",
    "    valid = all(t in fields for t in target_fields)\n",
    "    valid = valid and is_digit_in_incl_range(fields['byr'], 1920, 2002)\n",
    "    valid = valid and is_digit_in_incl_range(fields['iyr'], 2010, 2020)\n",
    "    valid = valid and is_digit_in_incl_range(fields['eyr'], 2020, 2030)\n",
    "    valid = valid and is_valid_height(fields['hgt'])\n",
    "    valid = valid and re.match('^#[0-9a-f]{6}$', fields['hcl']) is not None\n",
    "    valid = valid and fields['ecl'] in eye_cols\n",
    "    valid = valid and re.match('^[0-9]{9}$', fields['pid']) is not None\n",
    "    result += valid\n",
    "result"
   ]
  },
  {
   "cell_type": "code",
   "execution_count": 10,
   "metadata": {},
   "outputs": [
    {
     "data": {
      "text/plain": [
       "935"
      ]
     },
     "execution_count": 10,
     "metadata": {},
     "output_type": "execute_result"
    }
   ],
   "source": [
    "# 5\n",
    "with open('input5.txt', 'r') as f:\n",
    "    inp = f.read().splitlines()\n",
    "    \n",
    "binary = [''.join(['0','1'][c in 'BR'] for c in l) for l in inp]\n",
    "ids = [8*int(b[:-3], 2) + int(b[-3:], 2) for b in binary]\n",
    "max(ids)"
   ]
  },
  {
   "cell_type": "code",
   "execution_count": 11,
   "metadata": {},
   "outputs": [
    {
     "data": {
      "text/plain": [
       "743"
      ]
     },
     "execution_count": 11,
     "metadata": {},
     "output_type": "execute_result"
    }
   ],
   "source": [
    "ids = sorted(ids)\n",
    "miss = [i for i in range(len(ids)-1) if not ids[i]+1 == ids[i+1]][0]\n",
    "ids[miss]+1"
   ]
  },
  {
   "cell_type": "code",
   "execution_count": 12,
   "metadata": {},
   "outputs": [
    {
     "data": {
      "text/plain": [
       "6782"
      ]
     },
     "execution_count": 12,
     "metadata": {},
     "output_type": "execute_result"
    }
   ],
   "source": [
    "# 6\n",
    "with open('input6.txt', 'r') as f:\n",
    "    groups = [g.split('\\n') for g in f.read().split('\\n\\n')]\n",
    "    \n",
    "sum(len(set(''.join(g))) for g in groups)"
   ]
  },
  {
   "cell_type": "code",
   "execution_count": 13,
   "metadata": {},
   "outputs": [
    {
     "data": {
      "text/plain": [
       "3596"
      ]
     },
     "execution_count": 13,
     "metadata": {},
     "output_type": "execute_result"
    }
   ],
   "source": [
    "sum(len(g)==v for g in groups \n",
    "    for v in collections.Counter(''.join(g)).values())"
   ]
  },
  {
   "cell_type": "code",
   "execution_count": 14,
   "metadata": {},
   "outputs": [
    {
     "data": {
      "text/plain": [
       "{'wavy green': {'posh black': 1, 'faded green': 1, 'wavy red': 4},\n",
       " 'dotted chartreuse': {'light beige': 1},\n",
       " 'dark white': {'dotted white': 2},\n",
       " 'clear aqua': {'posh orange': 4, 'pale blue': 4},\n",
       " 'faded green': {'plaid orange': 2,\n",
       "  'drab green': 4,\n",
       "  'pale aqua': 4,\n",
       "  'drab coral': 4}}"
      ]
     },
     "execution_count": 14,
     "metadata": {},
     "output_type": "execute_result"
    }
   ],
   "source": [
    "# 7\n",
    "with open('input7.txt', 'r') as f:\n",
    "    raw_rules = f.read().splitlines()\n",
    "\n",
    "regex = '(\\d+) ([a-z\\s]+)$'\n",
    "def parse_rule(rule):\n",
    "    s = rule.split(' bag')\n",
    "    try:\n",
    "        r = dict(re.search(regex, r).groups()[::-1] for r in s[1:-1])\n",
    "        r = {k:int(v) for k,v in r.items()}\n",
    "    except Exception as e:\n",
    "        r = {}\n",
    "    return s[0], r\n",
    "rules = dict(parse_rule(r) for r in raw_rules)\n",
    "dict(list(rules.items())[:5])"
   ]
  },
  {
   "cell_type": "code",
   "execution_count": 15,
   "metadata": {},
   "outputs": [],
   "source": [
    "target = 'shiny gold'"
   ]
  },
  {
   "cell_type": "code",
   "execution_count": 16,
   "metadata": {},
   "outputs": [],
   "source": [
    "leads_to_target = set([target])\n",
    "not_to_target = set()"
   ]
  },
  {
   "cell_type": "code",
   "execution_count": 17,
   "metadata": {},
   "outputs": [],
   "source": [
    "def helper(typ):\n",
    "    # assumes no loops\n",
    "    if typ in leads_to_target:\n",
    "        return True\n",
    "    if typ in not_to_target:\n",
    "        return False\n",
    "    to_target = False\n",
    "    for styp in rules[typ].keys():\n",
    "        to_target |= helper(styp)\n",
    "    if to_target:\n",
    "        leads_to_target.add(typ)\n",
    "    else:\n",
    "        not_to_target.add(typ)\n",
    "    return to_target\n",
    "    \n",
    "for typ in rules:\n",
    "    helper(typ)"
   ]
  },
  {
   "cell_type": "code",
   "execution_count": 18,
   "metadata": {},
   "outputs": [
    {
     "data": {
      "text/plain": [
       "169"
      ]
     },
     "execution_count": 18,
     "metadata": {},
     "output_type": "execute_result"
    }
   ],
   "source": [
    "len(leads_to_target)-1"
   ]
  },
  {
   "cell_type": "code",
   "execution_count": 19,
   "metadata": {},
   "outputs": [],
   "source": [
    "def helper(typ):\n",
    "    # assumes no loops\n",
    "    return sum((1+helper(styp))*c for styp, c in rules[typ].items())"
   ]
  },
  {
   "cell_type": "code",
   "execution_count": 20,
   "metadata": {},
   "outputs": [
    {
     "data": {
      "text/plain": [
       "82372"
      ]
     },
     "execution_count": 20,
     "metadata": {},
     "output_type": "execute_result"
    }
   ],
   "source": [
    "helper(target)"
   ]
  },
  {
   "cell_type": "code",
   "execution_count": 21,
   "metadata": {},
   "outputs": [
    {
     "data": {
      "text/plain": [
       "(1487, True)"
      ]
     },
     "execution_count": 21,
     "metadata": {},
     "output_type": "execute_result"
    }
   ],
   "source": [
    "# 8\n",
    "with open('input8.txt', 'r') as f:\n",
    "    operations = [l.split() for l in f.read().splitlines()]\n",
    "\n",
    "def run_operations(operations):\n",
    "    seen = [False] * len(operations)\n",
    "    curr, acc = 0, 0\n",
    "    loopy = False\n",
    "    while curr < len(operations):\n",
    "        if seen[curr]:\n",
    "            loopy = True\n",
    "            break\n",
    "        seen[curr] = True\n",
    "        op, val = operations[curr]\n",
    "        val = int(val)\n",
    "        if op == 'acc':\n",
    "            acc += val\n",
    "            curr += 1\n",
    "        elif op == 'jmp':\n",
    "            curr += val\n",
    "        else:\n",
    "            curr += 1\n",
    "    return acc, loopy\n",
    "\n",
    "run_operations(operations)"
   ]
  },
  {
   "cell_type": "code",
   "execution_count": 22,
   "metadata": {},
   "outputs": [
    {
     "name": "stdout",
     "output_type": "stream",
     "text": [
      "469 1607\n"
     ]
    }
   ],
   "source": [
    "# I use brute force here\n",
    "# A non brute force solution is possible.\n",
    "# Firstly run backgrounds from the end to see which operations\n",
    "# will lead to the end. Then run forward and see which operation\n",
    "# can be changed to map to one of those operations that will lead\n",
    "# to the end.\n",
    "for i in range(len(operations)):\n",
    "    copy = operations.copy()\n",
    "    op, val = operations[i]\n",
    "    if op == 'acc':\n",
    "        continue\n",
    "    op = 'nop' if op == 'jmp' else 'jmp'\n",
    "    copy[i] = [op, val]\n",
    "    acc, loopy = run_operations(copy)\n",
    "    if not loopy:\n",
    "        print(i, acc)"
   ]
  },
  {
   "cell_type": "code",
   "execution_count": 23,
   "metadata": {},
   "outputs": [],
   "source": [
    "# 9\n",
    "with open('input9.txt', 'r') as f:\n",
    "    nums = [int(x) for x in f.readlines()]"
   ]
  },
  {
   "cell_type": "code",
   "execution_count": 24,
   "metadata": {},
   "outputs": [
    {
     "data": {
      "text/plain": [
       "552655238"
      ]
     },
     "execution_count": 24,
     "metadata": {},
     "output_type": "execute_result"
    }
   ],
   "source": [
    "seen = set(nums[:25])\n",
    "for n in nums[25:]:\n",
    "    valid = any(n-s in seen for s in seen if s!=n/2)\n",
    "    if valid:\n",
    "        seen.add(n)\n",
    "    else:\n",
    "        result = n\n",
    "        break\n",
    "result"
   ]
  },
  {
   "cell_type": "code",
   "execution_count": 25,
   "metadata": {},
   "outputs": [
    {
     "name": "stdout",
     "output_type": "stream",
     "text": [
      "[30484395, 26952678, 25903382, 26433970, 27327951, 29543326, 31321247, 30139557, 31044336, 32989305, 31818413, 34730529, 35979636, 41140695, 35790623, 36286332, 44768863]\n",
      "552655238 25903382 44768863\n",
      "[552655238]\n",
      "552655238 552655238 552655238\n"
     ]
    }
   ],
   "source": [
    "cumsum = list(itertools.accumulate(nums))\n",
    "for i in range(len(cumsum)):\n",
    "    for j in range(i+1, len(cumsum)):\n",
    "        if cumsum[j] - cumsum[i] == result:\n",
    "            rng = nums[i+1:j+1]\n",
    "            print(rng)\n",
    "            print(*(f(rng) for f in (sum, min, max)))\n",
    "            "
   ]
  },
  {
   "cell_type": "code",
   "execution_count": 26,
   "metadata": {},
   "outputs": [
    {
     "data": {
      "text/plain": [
       "70672245"
      ]
     },
     "execution_count": 26,
     "metadata": {},
     "output_type": "execute_result"
    }
   ],
   "source": [
    "25903382 + 44768863"
   ]
  },
  {
   "cell_type": "code",
   "execution_count": 27,
   "metadata": {},
   "outputs": [],
   "source": [
    "# 10\n",
    "with open('input10.txt', 'r') as f:\n",
    "    jolts = [int(x) for x in f.readlines()]"
   ]
  },
  {
   "cell_type": "code",
   "execution_count": 28,
   "metadata": {},
   "outputs": [
    {
     "data": {
      "text/plain": [
       "Counter({1: 70, 3: 35})"
      ]
     },
     "execution_count": 28,
     "metadata": {},
     "output_type": "execute_result"
    }
   ],
   "source": [
    "jolts = [0] + sorted(jolts) + [max(jolts)+3]\n",
    "diffs = [n-p for p,n in zip(jolts, jolts[1:])]\n",
    "collections.Counter(diffs)"
   ]
  },
  {
   "cell_type": "code",
   "execution_count": 29,
   "metadata": {},
   "outputs": [
    {
     "data": {
      "text/plain": [
       "2450"
      ]
     },
     "execution_count": 29,
     "metadata": {},
     "output_type": "execute_result"
    }
   ],
   "source": [
    "70*35"
   ]
  },
  {
   "cell_type": "code",
   "execution_count": 30,
   "metadata": {},
   "outputs": [],
   "source": [
    "dp = [0] * len(jolts)\n",
    "dp[0] = 1\n",
    "for i, jolt in enumerate(jolts[1:], 1):\n",
    "    num_pths = 0\n",
    "    for j in range(max(0, i-3),i):\n",
    "        if jolts[j] >= jolt - 3:\n",
    "            num_pths += dp[j]\n",
    "    dp[i] = num_pths"
   ]
  },
  {
   "cell_type": "code",
   "execution_count": 31,
   "metadata": {},
   "outputs": [
    {
     "data": {
      "text/plain": [
       "32396521357312"
      ]
     },
     "execution_count": 31,
     "metadata": {},
     "output_type": "execute_result"
    }
   ],
   "source": [
    "dp[-1]"
   ]
  },
  {
   "cell_type": "code",
   "execution_count": 32,
   "metadata": {},
   "outputs": [
    {
     "data": {
      "text/plain": [
       "array([[0, 0, 0, 0],\n",
       "       [0, 1, 1, 1],\n",
       "       [0, 1, 1, 1],\n",
       "       [0, 1, 1, 0]])"
      ]
     },
     "execution_count": 32,
     "metadata": {},
     "output_type": "execute_result"
    }
   ],
   "source": [
    "# 11\n",
    "# ENUM 0 -> floor, 1 -> empty, 2 -> occupied\n",
    "enum = {'.': 0, 'L': 1, '#': 2}\n",
    "renum = {v:k for k,v in enum.items()}\n",
    "with open('input11.txt', 'r') as f:\n",
    "    seats = np.array([[enum[c] for c in l] for l in f.read().splitlines()])\n",
    "    \n",
    "orig_seats = seats = np.pad(seats, (1, 1))\n",
    "seats[:4,:4]"
   ]
  },
  {
   "cell_type": "code",
   "execution_count": 33,
   "metadata": {},
   "outputs": [
    {
     "data": {
      "text/plain": [
       "2472"
      ]
     },
     "execution_count": 33,
     "metadata": {},
     "output_type": "execute_result"
    }
   ],
   "source": [
    "def evolve(seats):\n",
    "    occ = seats == 2\n",
    "    num_occ = np.sum([        \n",
    "        np.roll(occ, (i, j), (0, 1))\n",
    "        for i in [-1, 0, 1]\n",
    "        for j in [-1, 0, 1]\n",
    "    ], 0) - occ\n",
    "    evolved = seats.copy()\n",
    "    evolved[(seats == 1) & (num_occ == 0)] = 2\n",
    "    evolved[(seats == 2) & (num_occ >= 4)] = 1\n",
    "    return evolved\n",
    "\n",
    "done = False\n",
    "while not done:\n",
    "    evolved = evolve(seats)\n",
    "    if np.all(evolved == seats):\n",
    "        done = True\n",
    "    else:\n",
    "        seats = evolved\n",
    "np.sum(seats==2)"
   ]
  },
  {
   "cell_type": "code",
   "execution_count": 34,
   "metadata": {},
   "outputs": [
    {
     "data": {
      "text/plain": [
       "2197"
      ]
     },
     "execution_count": 34,
     "metadata": {},
     "output_type": "execute_result"
    }
   ],
   "source": [
    "# part 2 is a joy..., lets throw the beauty of numpy out the window\n",
    "# it seems like people attempting APL and J also cried at this point\n",
    "# a faster implementation would be possible with clever use of\n",
    "# itertools.accumulate translated to the numpy equivalent\n",
    "seats = orig_seats\n",
    "\n",
    "def evolve(seats):\n",
    "    occ = seats == 2\n",
    "    def calc(i, j):\n",
    "        return sum(\n",
    "            calcd(i, j, id, jd)\n",
    "            for id in [-1, 0, 1]\n",
    "            for jd in [-1, 0, 1]\n",
    "            if not (id==0 and jd==0)\n",
    "        )\n",
    "    def calcd(i, j, id, jd):\n",
    "        i, j = i+id, j+jd\n",
    "        while True:\n",
    "            if not (0 <= i < len(seats) and \\\n",
    "                    0 <= j < len(seats[i])):\n",
    "                # out of bounds\n",
    "                return 0\n",
    "            if seats[i][j] == 1:\n",
    "                # empty\n",
    "                return 0\n",
    "            if seats[i][j] == 2:\n",
    "                # occupied\n",
    "                return 1\n",
    "            i += id\n",
    "            j += jd           \n",
    "    num_occ = np.array([\n",
    "        [calc(i, j) for j in range(len(seats[i]))]\n",
    "        for i in range(len(seats))\n",
    "    ])\n",
    "    evolved = seats.copy()\n",
    "    evolved[(seats == 1) & (num_occ == 0)] = 2\n",
    "    evolved[(seats == 2) & (num_occ >= 5)] = 1\n",
    "    return evolved\n",
    "\n",
    "done = False\n",
    "while not done:\n",
    "    evolved = evolve(seats)\n",
    "    if np.all(evolved == seats):\n",
    "        done = True\n",
    "    else:\n",
    "        seats = evolved\n",
    "np.sum(seats==2)"
   ]
  }
 ],
 "metadata": {
  "kernelspec": {
   "display_name": "Python 3",
   "language": "python",
   "name": "python3"
  },
  "language_info": {
   "codemirror_mode": {
    "name": "ipython",
    "version": 3
   },
   "file_extension": ".py",
   "mimetype": "text/x-python",
   "name": "python",
   "nbconvert_exporter": "python",
   "pygments_lexer": "ipython3",
   "version": "3.7.9"
  },
  "toc": {
   "base_numbering": 1,
   "nav_menu": {},
   "number_sections": true,
   "sideBar": true,
   "skip_h1_title": false,
   "title_cell": "Table of Contents",
   "title_sidebar": "Contents",
   "toc_cell": false,
   "toc_position": {},
   "toc_section_display": true,
   "toc_window_display": false
  }
 },
 "nbformat": 4,
 "nbformat_minor": 4
}
